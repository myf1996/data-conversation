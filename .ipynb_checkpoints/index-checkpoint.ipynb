{
 "cells": [
  {
   "cell_type": "code",
   "execution_count": 4,
   "metadata": {},
   "outputs": [],
   "source": [
    "import pandas as pd\n",
    "import json"
   ]
  },
  {
   "cell_type": "code",
   "execution_count": null,
   "metadata": {},
   "outputs": [],
   "source": []
  },
  {
   "cell_type": "code",
   "execution_count": 6,
   "metadata": {},
   "outputs": [],
   "source": [
    "df = pd.read_json(\"sample_file/example_1.json\", typ='series')"
   ]
  },
  {
   "cell_type": "code",
   "execution_count": 7,
   "metadata": {},
   "outputs": [
    {
     "data": {
      "text/plain": [
       "fruit    Apple\n",
       "size     Large\n",
       "color      Red\n",
       "dtype: object"
      ]
     },
     "execution_count": 7,
     "metadata": {},
     "output_type": "execute_result"
    }
   ],
   "source": [
    "df"
   ]
  },
  {
   "cell_type": "code",
   "execution_count": 8,
   "metadata": {},
   "outputs": [
    {
     "data": {
      "text/html": [
       "<div>\n",
       "<style scoped>\n",
       "    .dataframe tbody tr th:only-of-type {\n",
       "        vertical-align: middle;\n",
       "    }\n",
       "\n",
       "    .dataframe tbody tr th {\n",
       "        vertical-align: top;\n",
       "    }\n",
       "\n",
       "    .dataframe thead th {\n",
       "        text-align: right;\n",
       "    }\n",
       "</style>\n",
       "<table border=\"1\" class=\"dataframe\">\n",
       "  <thead>\n",
       "    <tr style=\"text-align: right;\">\n",
       "      <th></th>\n",
       "      <th>Product</th>\n",
       "      <th>Price</th>\n",
       "    </tr>\n",
       "  </thead>\n",
       "  <tbody>\n",
       "    <tr>\n",
       "      <th>0</th>\n",
       "      <td>Desktop Computer</td>\n",
       "      <td>700</td>\n",
       "    </tr>\n",
       "    <tr>\n",
       "      <th>1</th>\n",
       "      <td>Tablet</td>\n",
       "      <td>250</td>\n",
       "    </tr>\n",
       "    <tr>\n",
       "      <th>2</th>\n",
       "      <td>iPhone</td>\n",
       "      <td>800</td>\n",
       "    </tr>\n",
       "    <tr>\n",
       "      <th>3</th>\n",
       "      <td>Laptop</td>\n",
       "      <td>1200</td>\n",
       "    </tr>\n",
       "  </tbody>\n",
       "</table>\n",
       "</div>"
      ],
      "text/plain": [
       "            Product  Price\n",
       "0  Desktop Computer    700\n",
       "1            Tablet    250\n",
       "2            iPhone    800\n",
       "3            Laptop   1200"
      ]
     },
     "execution_count": 8,
     "metadata": {},
     "output_type": "execute_result"
    }
   ],
   "source": [
    "my_json={\"Product\":{\"0\":\"Desktop Computer\",\"1\":\"Tablet\",\"2\":\"iPhone\",\"3\":\"Laptop\"},\"Price\":{\"0\":700,\"1\":250,\"2\":800,\"3\":1200}}\n",
    "df = pd.DataFrame(my_json)\n",
    "df"
   ]
  },
  {
   "cell_type": "code",
   "execution_count": 10,
   "metadata": {},
   "outputs": [],
   "source": [
    "df = pd.read_json(\"sample_file/example_2.json\",encoding='utf-8')"
   ]
  },
  {
   "cell_type": "code",
   "execution_count": 32,
   "metadata": {},
   "outputs": [
    {
     "data": {
      "text/html": [
       "<div>\n",
       "<style scoped>\n",
       "    .dataframe tbody tr th:only-of-type {\n",
       "        vertical-align: middle;\n",
       "    }\n",
       "\n",
       "    .dataframe tbody tr th {\n",
       "        vertical-align: top;\n",
       "    }\n",
       "\n",
       "    .dataframe thead th {\n",
       "        text-align: right;\n",
       "    }\n",
       "</style>\n",
       "<table border=\"1\" class=\"dataframe\">\n",
       "  <thead>\n",
       "    <tr style=\"text-align: right;\">\n",
       "      <th></th>\n",
       "      <th>quiz1</th>\n",
       "      <th>quiz2</th>\n",
       "    </tr>\n",
       "  </thead>\n",
       "  <tbody>\n",
       "    <tr>\n",
       "      <th>sport</th>\n",
       "      <td>{'q1': {'question': 'Which one is correct team...</td>\n",
       "      <td>{'q1': {'question': 'Which one is correct team...</td>\n",
       "    </tr>\n",
       "    <tr>\n",
       "      <th>maths</th>\n",
       "      <td>{'q1': {'question': '5 + 7 = ?', 'options': ['...</td>\n",
       "      <td>{'q1': {'question': '5 + 7 = ?', 'options': ['...</td>\n",
       "    </tr>\n",
       "  </tbody>\n",
       "</table>\n",
       "</div>"
      ],
      "text/plain": [
       "                                                   quiz1  \\\n",
       "sport  {'q1': {'question': 'Which one is correct team...   \n",
       "maths  {'q1': {'question': '5 + 7 = ?', 'options': ['...   \n",
       "\n",
       "                                                   quiz2  \n",
       "sport  {'q1': {'question': 'Which one is correct team...  \n",
       "maths  {'q1': {'question': '5 + 7 = ?', 'options': ['...  "
      ]
     },
     "execution_count": 32,
     "metadata": {},
     "output_type": "execute_result"
    }
   ],
   "source": [
    "df"
   ]
  },
  {
   "cell_type": "code",
   "execution_count": 15,
   "metadata": {},
   "outputs": [
    {
     "data": {
      "text/plain": [
       "{'q1': {'question': '5 + 7 = ?',\n",
       "  'options': ['10', '11', '12', '13'],\n",
       "  'answer': '12'},\n",
       " 'q2': {'question': '12 - 8 = ?',\n",
       "  'options': ['1', '2', '3', '4'],\n",
       "  'answer': '4'}}"
      ]
     },
     "execution_count": 15,
     "metadata": {},
     "output_type": "execute_result"
    }
   ],
   "source": [
    "df['quiz1'][1]"
   ]
  },
  {
   "cell_type": "code",
   "execution_count": null,
   "metadata": {},
   "outputs": [],
   "source": []
  },
  {
   "cell_type": "code",
   "execution_count": null,
   "metadata": {},
   "outputs": [],
   "source": []
  },
  {
   "cell_type": "code",
   "execution_count": null,
   "metadata": {},
   "outputs": [],
   "source": []
  },
  {
   "cell_type": "code",
   "execution_count": null,
   "metadata": {},
   "outputs": [],
   "source": []
  },
  {
   "cell_type": "code",
   "execution_count": 20,
   "metadata": {},
   "outputs": [
    {
     "data": {
      "text/html": [
       "<div>\n",
       "<style scoped>\n",
       "    .dataframe tbody tr th:only-of-type {\n",
       "        vertical-align: middle;\n",
       "    }\n",
       "\n",
       "    .dataframe tbody tr th {\n",
       "        vertical-align: top;\n",
       "    }\n",
       "\n",
       "    .dataframe thead th {\n",
       "        text-align: right;\n",
       "    }\n",
       "</style>\n",
       "<table border=\"1\" class=\"dataframe\">\n",
       "  <thead>\n",
       "    <tr style=\"text-align: right;\">\n",
       "      <th></th>\n",
       "      <th>data</th>\n",
       "    </tr>\n",
       "  </thead>\n",
       "  <tbody>\n",
       "    <tr>\n",
       "      <th>quiz1</th>\n",
       "      <td>{'sport': {'q1': {'question': 'Which one is co...</td>\n",
       "    </tr>\n",
       "    <tr>\n",
       "      <th>quiz2</th>\n",
       "      <td>{'sport': {'q1': {'question': 'Which one is co...</td>\n",
       "    </tr>\n",
       "  </tbody>\n",
       "</table>\n",
       "</div>"
      ],
      "text/plain": [
       "                                                    data\n",
       "quiz1  {'sport': {'q1': {'question': 'Which one is co...\n",
       "quiz2  {'sport': {'q1': {'question': 'Which one is co..."
      ]
     },
     "execution_count": 20,
     "metadata": {},
     "output_type": "execute_result"
    }
   ],
   "source": [
    "import json\n",
    "\n",
    "with open(\"sample_file/example_2.json\") as json_data:\n",
    "     data = json.load(json_data)\n",
    "        \n",
    "df = pd.DataFrame({\"data\":data})\n",
    "df"
   ]
  },
  {
   "cell_type": "code",
   "execution_count": null,
   "metadata": {},
   "outputs": [],
   "source": []
  },
  {
   "cell_type": "code",
   "execution_count": null,
   "metadata": {},
   "outputs": [],
   "source": []
  },
  {
   "cell_type": "code",
   "execution_count": 18,
   "metadata": {},
   "outputs": [],
   "source": [
    "data=\"\"\"{\n",
    "    \"quiz1\": {\n",
    "        \"sport\": {\n",
    "            \"q1\": {\n",
    "                \"question\": \"Which one is correct team name in NBA?\",\n",
    "                \"options\": [\n",
    "                    \"New York Bulls\",\n",
    "                    \"Los Angeles Kings\",\n",
    "                    \"Golden State Warriros\",\n",
    "                    \"Huston Rocket\"\n",
    "                ],\n",
    "                \"answer\": \"Huston Rocket\"\n",
    "            }\n",
    "        },\n",
    "        \"maths\": {\n",
    "            \"q1\": {\n",
    "                \"question\": \"5 + 7 = ?\",\n",
    "                \"options\": [\n",
    "                    \"10\",\n",
    "                    \"11\",\n",
    "                    \"12\",\n",
    "                    \"13\"\n",
    "                ],\n",
    "                \"answer\": \"12\"\n",
    "            },\n",
    "            \"q2\": {\n",
    "                \"question\": \"12 - 8 = ?\",\n",
    "                \"options\": [\n",
    "                    \"1\",\n",
    "                    \"2\",\n",
    "                    \"3\",\n",
    "                    \"4\"\n",
    "                ],\n",
    "                \"answer\": \"4\"\n",
    "            }\n",
    "        }\n",
    "    },\n",
    "\t\"quiz2\": {\n",
    "        \"sport\": {\n",
    "            \"q1\": {\n",
    "                \"question\": \"Which one is correct team name in NBA?\",\n",
    "                \"options\": [\n",
    "                    \"New York Bulls\",\n",
    "                    \"Los Angeles Kings\",\n",
    "                    \"Golden State Warriros\",\n",
    "                    \"Huston Rocket\"\n",
    "                ],\n",
    "                \"answer\": \"Huston Rocket\"\n",
    "            }\n",
    "        },\n",
    "        \"maths\": {\n",
    "            \"q1\": {\n",
    "                \"question\": \"5 + 7 = ?\",\n",
    "                \"options\": [\n",
    "                    \"10\",\n",
    "                    \"11\",\n",
    "                    \"12\",\n",
    "                    \"13\"\n",
    "                ],\n",
    "                \"answer\": \"12\"\n",
    "            },\n",
    "            \"q2\": {\n",
    "                \"question\": \"12 - 8 = ?\",\n",
    "                \"options\": [\n",
    "                    \"1\",\n",
    "                    \"2\",\n",
    "                    \"3\",\n",
    "                    \"4\"\n",
    "                ],\n",
    "                \"answer\": \"4\"\n",
    "            }\n",
    "        }\n",
    "    }\n",
    "}\"\"\"\n",
    "person_dict = json.loads(data)"
   ]
  },
  {
   "cell_type": "code",
   "execution_count": 19,
   "metadata": {},
   "outputs": [
    {
     "data": {
      "text/plain": [
       "{'quiz1': {'sport': {'q1': {'question': 'Which one is correct team name in NBA?',\n",
       "    'options': ['New York Bulls',\n",
       "     'Los Angeles Kings',\n",
       "     'Golden State Warriros',\n",
       "     'Huston Rocket'],\n",
       "    'answer': 'Huston Rocket'}},\n",
       "  'maths': {'q1': {'question': '5 + 7 = ?',\n",
       "    'options': ['10', '11', '12', '13'],\n",
       "    'answer': '12'},\n",
       "   'q2': {'question': '12 - 8 = ?',\n",
       "    'options': ['1', '2', '3', '4'],\n",
       "    'answer': '4'}}},\n",
       " 'quiz2': {'sport': {'q1': {'question': 'Which one is correct team name in NBA?',\n",
       "    'options': ['New York Bulls',\n",
       "     'Los Angeles Kings',\n",
       "     'Golden State Warriros',\n",
       "     'Huston Rocket'],\n",
       "    'answer': 'Huston Rocket'}},\n",
       "  'maths': {'q1': {'question': '5 + 7 = ?',\n",
       "    'options': ['10', '11', '12', '13'],\n",
       "    'answer': '12'},\n",
       "   'q2': {'question': '12 - 8 = ?',\n",
       "    'options': ['1', '2', '3', '4'],\n",
       "    'answer': '4'}}}}"
      ]
     },
     "execution_count": 19,
     "metadata": {},
     "output_type": "execute_result"
    }
   ],
   "source": [
    "person_dict"
   ]
  },
  {
   "cell_type": "code",
   "execution_count": null,
   "metadata": {},
   "outputs": [],
   "source": []
  },
  {
   "cell_type": "code",
   "execution_count": null,
   "metadata": {},
   "outputs": [],
   "source": []
  },
  {
   "cell_type": "code",
   "execution_count": null,
   "metadata": {},
   "outputs": [],
   "source": []
  },
  {
   "cell_type": "code",
   "execution_count": 28,
   "metadata": {},
   "outputs": [],
   "source": [
    "import xml.etree.ElementTree as ET"
   ]
  },
  {
   "cell_type": "code",
   "execution_count": 29,
   "metadata": {},
   "outputs": [],
   "source": [
    "tree = ET.parse('sample_file/books.xml')\n",
    "root = tree.getroot()"
   ]
  },
  {
   "cell_type": "code",
   "execution_count": 30,
   "metadata": {},
   "outputs": [
    {
     "data": {
      "text/plain": [
       "<Element 'catalog' at 0x7fa3e3932c50>"
      ]
     },
     "execution_count": 30,
     "metadata": {},
     "output_type": "execute_result"
    }
   ],
   "source": [
    "root"
   ]
  },
  {
   "cell_type": "code",
   "execution_count": 33,
   "metadata": {},
   "outputs": [
    {
     "name": "stdout",
     "output_type": "stream",
     "text": [
      "book ..... \n",
      "      \n",
      "Gambardella, Matthew ..... author\n",
      "XML Developer's Guide ..... title\n",
      "Computer ..... genre\n",
      "44.95 ..... price\n",
      "2000-10-01 ..... publish_date\n",
      "An in-depth look at creating applications \n",
      "      with XML. ..... description\n",
      "book ..... \n",
      "      \n",
      "Ralls, Kim ..... author\n",
      "Midnight Rain ..... title\n",
      "Fantasy ..... genre\n",
      "5.95 ..... price\n",
      "2000-12-16 ..... publish_date\n",
      "A former architect battles corporate zombies, \n",
      "      an evil sorceress, and her own childhood to become queen \n",
      "      of the world. ..... description\n",
      "\n",
      "              ..... data\n",
      "world ,,,,,,,,,,,,,,,,,,,,,,,,,,,\n",
      "book ..... \n",
      "      \n",
      "Corets, Eva ..... author\n",
      "Maeve Ascendant ..... title\n",
      "Fantasy ..... genre\n",
      "5.95 ..... price\n",
      "2000-11-17 ..... publish_date\n",
      "After the collapse of a nanotechnology \n",
      "      society in England, the young survivors lay the \n",
      "      foundation for a new society. ..... description\n",
      "book ..... \n",
      "      \n",
      "Corets, Eva ..... author\n",
      "Oberon's Legacy ..... title\n",
      "Fantasy ..... genre\n",
      "5.95 ..... price\n",
      "2001-03-10 ..... publish_date\n",
      "In post-apocalypse England, the mysterious \n",
      "      agent known only as Oberon helps to create a new life \n",
      "      for the inhabitants of London. Sequel to Maeve \n",
      "      Ascendant. ..... description\n",
      "book ..... \n",
      "      \n",
      "Corets, Eva ..... author\n",
      "The Sundered Grail ..... title\n",
      "Fantasy ..... genre\n",
      "5.95 ..... price\n",
      "2001-09-10 ..... publish_date\n",
      "The two daughters of Maeve, half-sisters, \n",
      "      battle one another for control of England. Sequel to \n",
      "      Oberon's Legacy. ..... description\n",
      "book ..... \n",
      "      \n",
      "Randall, Cynthia ..... author\n",
      "Lover Birds ..... title\n",
      "Romance ..... genre\n",
      "4.95 ..... price\n",
      "2000-09-02 ..... publish_date\n",
      "When Carla meets Paul at an ornithology \n",
      "      conference, tempers fly as feathers get ruffled. ..... description\n",
      "book ..... \n",
      "      \n",
      "Thurman, Paula ..... author\n",
      "Splish Splash ..... title\n",
      "Romance ..... genre\n",
      "4.95 ..... price\n",
      "2000-11-02 ..... publish_date\n",
      "A deep sea diver finds true love twenty \n",
      "      thousand leagues beneath the sea. ..... description\n",
      "book ..... \n",
      "      \n",
      "Knorr, Stefan ..... author\n",
      "Creepy Crawlies ..... title\n",
      "Horror ..... genre\n",
      "4.95 ..... price\n",
      "2000-12-06 ..... publish_date\n",
      "An anthology of horror stories about roaches,\n",
      "      centipedes, scorpions  and other insects. ..... description\n",
      "book ..... \n",
      "      \n",
      "Kress, Peter ..... author\n",
      "Paradox Lost ..... title\n",
      "Science Fiction ..... genre\n",
      "6.95 ..... price\n",
      "2000-11-02 ..... publish_date\n",
      "After an inadvertant trip through a Heisenberg\n",
      "      Uncertainty Device, James Salway discovers the problems \n",
      "      of being quantum. ..... description\n",
      "book ..... \n",
      "      \n",
      "O'Brien, Tim ..... author\n",
      "Microsoft .NET: The Programming Bible ..... title\n",
      "Computer ..... genre\n",
      "36.95 ..... price\n",
      "2000-12-09 ..... publish_date\n",
      "Microsoft's .NET initiative is explored in \n",
      "      detail in this deep programmer's reference. ..... description\n",
      "book ..... \n",
      "      \n",
      "O'Brien, Tim ..... author\n",
      "MSXML3: A Comprehensive Guide ..... title\n",
      "Computer ..... genre\n",
      "36.95 ..... price\n",
      "2000-12-01 ..... publish_date\n",
      "The Microsoft MSXML3 parser is covered in \n",
      "      detail, with attention to XML DOM interfaces, XSLT processing, \n",
      "      SAX and more. ..... description\n",
      "book ..... \n",
      "      \n",
      "Galos, Mike ..... author\n",
      "Visual Studio 7: A Comprehensive Guide ..... title\n",
      "Computer ..... genre\n",
      "49.95 ..... price\n",
      "2001-04-16 ..... publish_date\n",
      "Microsoft Visual Studio 7 is explored in depth,\n",
      "      looking at how Visual Basic, Visual C++, C#, and ASP+ are \n",
      "      integrated into a comprehensive development \n",
      "      environment. ..... description\n"
     ]
    }
   ],
   "source": [
    "for elem in root:\n",
    "    print(elem.tag,\".....\",elem.text)\n",
    "    for subelem in elem:\n",
    "        print(subelem.text,\".....\",subelem.tag)\n",
    "        for i in subelem:\n",
    "            print(i.text,\",,,,,,,,,,,,,,,,,,,,,,,,,,,\")"
   ]
  },
  {
   "cell_type": "code",
   "execution_count": 40,
   "metadata": {},
   "outputs": [
    {
     "name": "stdout",
     "output_type": "stream",
     "text": [
      "<Element 'book' at 0x7fa3e39329b0> ROOT\n",
      "<Element 'author' at 0x7fa3e3932350> CHILD\n",
      "<Element 'title' at 0x7fa3e3932d10> CHILD\n",
      "<Element 'genre' at 0x7fa3e3932cb0> CHILD\n",
      "<Element 'price' at 0x7fa3e3932bf0> CHILD\n",
      "<Element 'publish_date' at 0x7fa3e3932a70> CHILD\n",
      "<Element 'description' at 0x7fa3e3932d70> CHILD\n",
      "<Element 'book' at 0x7fa3e3932dd0> ROOT\n",
      "<Element 'author' at 0x7fa3e3932e30> CHILD\n",
      "<Element 'title' at 0x7fa3e3932e90> CHILD\n",
      "<Element 'genre' at 0x7fa3e3932ef0> CHILD\n",
      "<Element 'price' at 0x7fa3e3932f50> CHILD\n",
      "<Element 'publish_date' at 0x7fa3e3932fb0> CHILD\n",
      "<Element 'description' at 0x7fa3e3941050> CHILD\n",
      "<Element 'data' at 0x7fa3e3941110> CHILD\n",
      "<Element 'hello' at 0x7fa3e39411d0> SUB-CHILD\n",
      "<Element 'book' at 0x7fa3e3941230> ROOT\n",
      "<Element 'author' at 0x7fa3e3941290> CHILD\n",
      "<Element 'title' at 0x7fa3e39412f0> CHILD\n",
      "<Element 'genre' at 0x7fa3e3941350> CHILD\n",
      "<Element 'price' at 0x7fa3e39413b0> CHILD\n",
      "<Element 'publish_date' at 0x7fa3e3941410> CHILD\n",
      "<Element 'description' at 0x7fa3e3941470> CHILD\n",
      "<Element 'book' at 0x7fa3e3941590> ROOT\n",
      "<Element 'author' at 0x7fa3e39415f0> CHILD\n",
      "<Element 'title' at 0x7fa3e3941650> CHILD\n",
      "<Element 'genre' at 0x7fa3e39416b0> CHILD\n",
      "<Element 'price' at 0x7fa3e3941710> CHILD\n",
      "<Element 'publish_date' at 0x7fa3e3941770> CHILD\n",
      "<Element 'description' at 0x7fa3e39417d0> CHILD\n",
      "<Element 'book' at 0x7fa3e3941890> ROOT\n",
      "<Element 'author' at 0x7fa3e39418f0> CHILD\n",
      "<Element 'title' at 0x7fa3e3941950> CHILD\n",
      "<Element 'genre' at 0x7fa3e39419b0> CHILD\n",
      "<Element 'price' at 0x7fa3e3941a10> CHILD\n",
      "<Element 'publish_date' at 0x7fa3e3941a70> CHILD\n",
      "<Element 'description' at 0x7fa3e3941ad0> CHILD\n",
      "<Element 'book' at 0x7fa3e3941b90> ROOT\n",
      "<Element 'author' at 0x7fa3e3941bf0> CHILD\n",
      "<Element 'title' at 0x7fa3e3941c50> CHILD\n",
      "<Element 'genre' at 0x7fa3e3941cb0> CHILD\n",
      "<Element 'price' at 0x7fa3e3941d10> CHILD\n",
      "<Element 'publish_date' at 0x7fa3e3941d70> CHILD\n",
      "<Element 'description' at 0x7fa3e3941dd0> CHILD\n",
      "<Element 'book' at 0x7fa3e3941e90> ROOT\n",
      "<Element 'author' at 0x7fa3e3941ef0> CHILD\n",
      "<Element 'title' at 0x7fa3e3941f50> CHILD\n",
      "<Element 'genre' at 0x7fa3e3941fb0> CHILD\n",
      "<Element 'price' at 0x7fa3e3944050> CHILD\n",
      "<Element 'publish_date' at 0x7fa3e39440b0> CHILD\n",
      "<Element 'description' at 0x7fa3e3944110> CHILD\n",
      "<Element 'book' at 0x7fa3e3944230> ROOT\n",
      "<Element 'author' at 0x7fa3e3944290> CHILD\n",
      "<Element 'title' at 0x7fa3e39442f0> CHILD\n",
      "<Element 'genre' at 0x7fa3e3944350> CHILD\n",
      "<Element 'price' at 0x7fa3e39443b0> CHILD\n",
      "<Element 'publish_date' at 0x7fa3e3944410> CHILD\n",
      "<Element 'description' at 0x7fa3e3944470> CHILD\n",
      "<Element 'book' at 0x7fa3e3944590> ROOT\n",
      "<Element 'author' at 0x7fa3e39445f0> CHILD\n",
      "<Element 'title' at 0x7fa3e3944650> CHILD\n",
      "<Element 'genre' at 0x7fa3e39446b0> CHILD\n",
      "<Element 'price' at 0x7fa3e3944710> CHILD\n",
      "<Element 'publish_date' at 0x7fa3e3944770> CHILD\n",
      "<Element 'description' at 0x7fa3e39447d0> CHILD\n",
      "<Element 'book' at 0x7fa3e3944890> ROOT\n",
      "<Element 'author' at 0x7fa3e39448f0> CHILD\n",
      "<Element 'title' at 0x7fa3e3944950> CHILD\n",
      "<Element 'genre' at 0x7fa3e3944a10> CHILD\n",
      "<Element 'price' at 0x7fa3e3944a70> CHILD\n",
      "<Element 'publish_date' at 0x7fa3e3944ad0> CHILD\n",
      "<Element 'description' at 0x7fa3e3944b30> CHILD\n",
      "<Element 'book' at 0x7fa3e3944bf0> ROOT\n",
      "<Element 'author' at 0x7fa3e3944c50> CHILD\n",
      "<Element 'title' at 0x7fa3e3944cb0> CHILD\n",
      "<Element 'genre' at 0x7fa3e3944d10> CHILD\n",
      "<Element 'price' at 0x7fa3e3944d70> CHILD\n",
      "<Element 'publish_date' at 0x7fa3e3944dd0> CHILD\n",
      "<Element 'description' at 0x7fa3e3944e30> CHILD\n",
      "<Element 'book' at 0x7fa3e3944ef0> ROOT\n",
      "<Element 'author' at 0x7fa3e3944f50> CHILD\n",
      "<Element 'title' at 0x7fa3e3944fb0> CHILD\n",
      "<Element 'genre' at 0x7fa3e39340b0> CHILD\n",
      "<Element 'price' at 0x7fa3e3934110> CHILD\n",
      "<Element 'publish_date' at 0x7fa3e3934170> CHILD\n",
      "<Element 'description' at 0x7fa3e39341d0> CHILD\n"
     ]
    },
    {
     "name": "stderr",
     "output_type": "stream",
     "text": [
      "/home/yassar/Desktop/data-conversation/venv/lib/python3.7/site-packages/ipykernel_launcher.py:1: DeprecationWarning: This method will be removed in future versions.  Use 'list(elem)' or iteration over elem instead.\n",
      "  \"\"\"Entry point for launching an IPython kernel.\n",
      "/home/yassar/Desktop/data-conversation/venv/lib/python3.7/site-packages/ipykernel_launcher.py:4: DeprecationWarning: This method will be removed in future versions.  Use 'list(elem)' or iteration over elem instead.\n",
      "  after removing the cwd from sys.path.\n",
      "/home/yassar/Desktop/data-conversation/venv/lib/python3.7/site-packages/ipykernel_launcher.py:6: DeprecationWarning: This method will be removed in future versions.  Use 'list(elem)' or iteration over elem instead.\n",
      "  \n"
     ]
    }
   ],
   "source": [
    "child = root.getchildren()\n",
    "for i in child:\n",
    "    print(i,\"---------------------------------ROOT\")\n",
    "    for j in i.getchildren():\n",
    "        print(j,\"---------------------------------CHILD\")\n",
    "        for k in j.getchildren():\n",
    "            print(k,\"---------------------------------SUB-CHILD\")"
   ]
  },
  {
   "cell_type": "code",
   "execution_count": null,
   "metadata": {},
   "outputs": [],
   "source": []
  },
  {
   "cell_type": "code",
   "execution_count": null,
   "metadata": {},
   "outputs": [],
   "source": [
    "def recursion_root(root):\n",
    "    if len(root.getchildren()) != 0:\n",
    "        child = root.getchildren()\n",
    "    "
   ]
  }
 ],
 "metadata": {
  "kernelspec": {
   "display_name": "Python 3",
   "language": "python",
   "name": "python3"
  },
  "language_info": {
   "codemirror_mode": {
    "name": "ipython",
    "version": 3
   },
   "file_extension": ".py",
   "mimetype": "text/x-python",
   "name": "python",
   "nbconvert_exporter": "python",
   "pygments_lexer": "ipython3",
   "version": "3.7.7"
  }
 },
 "nbformat": 4,
 "nbformat_minor": 4
}
